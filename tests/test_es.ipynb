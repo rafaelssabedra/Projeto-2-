{
 "cells": [
  {
   "cell_type": "markdown",
   "id": "82b5ea0e-838a-43cf-92b8-a12e7b488840",
   "metadata": {},
   "source": [
    "# Módulo de Entrada e Saída de Dados"
   ]
  },
  {
   "cell_type": "code",
   "execution_count": 1,
   "id": "8797dd16-47f0-47c4-b78c-d268728f0d64",
   "metadata": {
    "tags": []
   },
   "outputs": [
    {
     "name": "stdin",
     "output_type": "stream",
     "text": [
      "Qual o nome da empresa? Itau Unibanco Holding S.A\n"
     ]
    }
   ],
   "source": [
    "emissor = input(\"Qual o nome da empresa?\")"
   ]
  },
  {
   "cell_type": "code",
   "execution_count": 2,
   "id": "64942da5-98e9-4a4f-8e39-1a85a502e6b7",
   "metadata": {
    "tags": []
   },
   "outputs": [
    {
     "name": "stdout",
     "output_type": "stream",
     "text": [
      "Itau Unibanco Holding S.A\n"
     ]
    }
   ],
   "source": [
    "print(emissor)"
   ]
  },
  {
   "cell_type": "code",
   "execution_count": 1,
   "id": "191faf35-abda-4750-892e-698b1057014f",
   "metadata": {
    "tags": []
   },
   "outputs": [
    {
     "name": "stdin",
     "output_type": "stream",
     "text": [
      "Qual o nome da empresa? empresa\n"
     ]
    }
   ],
   "source": [
    "def leitora_emissor():\n",
    "    \"\"\"lê emissor\"\"\"\n",
    "    emissor = input(\"Qual o nome da empresa?\")\n",
    "    return emissor\n",
    "\n",
    "emissora = leitora_emissor()\n",
    "    "
   ]
  },
  {
   "cell_type": "code",
   "execution_count": 15,
   "id": "81c239a1-32eb-4e02-872b-a4206016f5d0",
   "metadata": {
    "tags": []
   },
   "outputs": [
    {
     "name": "stdout",
     "output_type": "stream",
     "text": [
      "bradesco\n"
     ]
    }
   ],
   "source": [
    "print(emissor)"
   ]
  },
  {
   "cell_type": "code",
   "execution_count": 16,
   "id": "1132dd8c-ce0a-441d-8552-c470fecfd6d4",
   "metadata": {
    "tags": []
   },
   "outputs": [
    {
     "name": "stdin",
     "output_type": "stream",
     "text": [
      "Qual o codigo na B3? jeca\n"
     ]
    }
   ],
   "source": [
    "codigo = input(\"Qual o codigo na B3?\")"
   ]
  },
  {
   "cell_type": "code",
   "execution_count": 17,
   "id": "a7379c68-3740-4fe0-a780-9cf4ad288dd3",
   "metadata": {
    "tags": []
   },
   "outputs": [
    {
     "name": "stdout",
     "output_type": "stream",
     "text": [
      "jeca\n"
     ]
    }
   ],
   "source": [
    "print(codigo)"
   ]
  },
  {
   "cell_type": "code",
   "execution_count": 2,
   "id": "f47fe9fa-0479-47e5-b62c-67c1a2c0f885",
   "metadata": {
    "tags": []
   },
   "outputs": [
    {
     "name": "stdin",
     "output_type": "stream",
     "text": [
      "Qual o codigo na B3? ges\n"
     ]
    },
    {
     "name": "stdout",
     "output_type": "stream",
     "text": [
      "ges\n"
     ]
    }
   ],
   "source": [
    "def leitora_codigo():\n",
    "    \"le codigo\"\n",
    "    codigo = input(\"Qual o codigo na B3?\")\n",
    "    return codigo\n",
    "codigo = leitora_codigo()\n",
    "print(codigo)"
   ]
  },
  {
   "cell_type": "code",
   "execution_count": 19,
   "id": "8b5624aa-c5e4-481d-9e0e-6bbc5f305d5d",
   "metadata": {
    "tags": []
   },
   "outputs": [
    {
     "name": "stdin",
     "output_type": "stream",
     "text": [
      "Qual o nome da empresa? cachorro airlines\n",
      "Qual o codigo na B3? airl\n"
     ]
    },
    {
     "name": "stdout",
     "output_type": "stream",
     "text": [
      "['cachorro airlines', 'airl']\n"
     ]
    }
   ],
   "source": [
    "def leitora():\n",
    "    emissor = leitora_emissor()\n",
    "    codigo = leitora_codigo()\n",
    "    return [emissor, codigo]\n",
    "\n",
    "empresa = leitora()\n",
    "print(empresa)"
   ]
  },
  {
   "cell_type": "markdown",
   "id": "703ef50b-075f-46a6-ad87-bcffa62044d6",
   "metadata": {},
   "source": [
    "# Funcionalidade de saída de dados"
   ]
  },
  {
   "cell_type": "code",
   "execution_count": 20,
   "id": "bb1c1216-d23b-4573-9fa2-8ed0e8b04792",
   "metadata": {
    "tags": []
   },
   "outputs": [
    {
     "name": "stdout",
     "output_type": "stream",
     "text": [
      "['cachorro airlines', 'airl']\n"
     ]
    }
   ],
   "source": [
    "print(empresa)"
   ]
  },
  {
   "cell_type": "code",
   "execution_count": 4,
   "id": "2b261574-4450-4e90-a102-8407809391eb",
   "metadata": {
    "tags": []
   },
   "outputs": [],
   "source": [
    "def impressora(resultado: str):\n",
    "    \"\"\"imprime o resultado\"\"\"\n",
    "    print(f\"A ação criada foi {resultado}.\")\n"
   ]
  },
  {
   "cell_type": "code",
   "execution_count": 22,
   "id": "5b1856dc-3f8b-41f9-9a79-1dc1542ad271",
   "metadata": {
    "tags": []
   },
   "outputs": [
    {
     "name": "stdout",
     "output_type": "stream",
     "text": [
      "['cachorro airlines', 'airl']\n"
     ]
    }
   ],
   "source": [
    "# Teste\n",
    "\n",
    "impressora(empresa)"
   ]
  },
  {
   "cell_type": "code",
   "execution_count": null,
   "id": "84a67042-329e-4f9f-bbdb-cd7518339a94",
   "metadata": {},
   "outputs": [],
   "source": []
  }
 ],
 "metadata": {
  "kernelspec": {
   "display_name": "Python 3 (ipykernel)",
   "language": "python",
   "name": "python3"
  },
  "language_info": {
   "codemirror_mode": {
    "name": "ipython",
    "version": 3
   },
   "file_extension": ".py",
   "mimetype": "text/x-python",
   "name": "python",
   "nbconvert_exporter": "python",
   "pygments_lexer": "ipython3",
   "version": "3.11.5"
  }
 },
 "nbformat": 4,
 "nbformat_minor": 5
}
