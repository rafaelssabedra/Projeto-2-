{
 "cells": [
  {
   "cell_type": "markdown",
   "id": "7c00d4a6-8af4-4b4e-be34-a332fe3c9a38",
   "metadata": {},
   "source": [
    "# Módulo de instanciação de objetos da classe ação"
   ]
  },
  {
   "cell_type": "code",
   "execution_count": 14,
   "id": "79c98ef5-e060-4e14-8c6c-1090b426cb5a",
   "metadata": {
    "tags": []
   },
   "outputs": [],
   "source": [
    "# Definindo a classe Ação\n",
    "\n",
    "\n",
    "class Acao: \n",
    "    def __init__(self, emissor, codigo_b3):\n",
    "        self.emissor = emissor\n",
    "        self.codigo_b3 = codigo_b3\n",
    "        \n",
    "        "
   ]
  },
  {
   "cell_type": "code",
   "execution_count": 15,
   "id": "ec30e6cd-c430-4ac1-a084-ad9de2a33d89",
   "metadata": {
    "tags": []
   },
   "outputs": [],
   "source": [
    "# Teste da classe ação, instanciando o objeto BBDC3\n",
    "\n",
    "bbdc3 = Acao(\"Bradesco\", \"BBDC3\")\n"
   ]
  },
  {
   "cell_type": "code",
   "execution_count": 16,
   "id": "3e7224ac-23be-4a44-a45b-7c8864808b66",
   "metadata": {
    "tags": []
   },
   "outputs": [
    {
     "name": "stdout",
     "output_type": "stream",
     "text": [
      "5\n"
     ]
    }
   ],
   "source": [
    "c = 5\n",
    "print(c)"
   ]
  },
  {
   "cell_type": "code",
   "execution_count": 17,
   "id": "19f908dd-37e3-4cb1-919c-dc4775593b30",
   "metadata": {
    "tags": []
   },
   "outputs": [
    {
     "name": "stdout",
     "output_type": "stream",
     "text": [
      "<__main__.Acao object at 0x000001C3F6A36A10>\n"
     ]
    }
   ],
   "source": [
    "print(bbdc3)"
   ]
  },
  {
   "cell_type": "code",
   "execution_count": 30,
   "id": "253a21a0-2f81-48c8-a4f4-302d600d46c7",
   "metadata": {
    "tags": []
   },
   "outputs": [],
   "source": [
    "# Evoluindo a classe\n",
    "\n",
    "class Acao: \n",
    "    def __init__(self, emissor, codigo_b3):\n",
    "        self.emissor = emissor\n",
    "        self.codigo_b3 = codigo_b3\n",
    "    def __str__(self):\n",
    "        return f\"\"\"Este é um objeto da classe Ação e o emissor da ação é {self.emissor} e o código é {self.codigo_b3}\"\"\"\n",
    "    def negociar(self):\n",
    "        print(\"Método negociar() não implementado\")\n",
    "        NotImplemented"
   ]
  },
  {
   "cell_type": "code",
   "execution_count": 31,
   "id": "2bc2907d-89ad-4e9c-9a63-4c6c85b5b39b",
   "metadata": {
    "tags": []
   },
   "outputs": [
    {
     "name": "stdout",
     "output_type": "stream",
     "text": [
      "Este é um objeto da classe Ação e o emissor da ação é Bradesco e o código é BBDC4\n",
      "Método negociar() não implementado\n"
     ]
    }
   ],
   "source": [
    "# Teste\n",
    "\n",
    "bbdc4 = Acao(\"Bradesco\", \"BBDC4\")\n",
    "print(bbdc4)\n",
    "bbdc4.negociar()"
   ]
  },
  {
   "cell_type": "code",
   "execution_count": null,
   "id": "277e2c22-8917-4a22-a876-fb8d06ccdd8c",
   "metadata": {},
   "outputs": [],
   "source": []
  }
 ],
 "metadata": {
  "kernelspec": {
   "display_name": "Python 3 (ipykernel)",
   "language": "python",
   "name": "python3"
  },
  "language_info": {
   "codemirror_mode": {
    "name": "ipython",
    "version": 3
   },
   "file_extension": ".py",
   "mimetype": "text/x-python",
   "name": "python",
   "nbconvert_exporter": "python",
   "pygments_lexer": "ipython3",
   "version": "3.11.5"
  }
 },
 "nbformat": 4,
 "nbformat_minor": 5
}
